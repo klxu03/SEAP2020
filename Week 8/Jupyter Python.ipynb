{
 "cells": [
  {
   "cell_type": "code",
   "execution_count": 1,
   "metadata": {},
   "outputs": [],
   "source": [
    "# Importing required classes\n",
    "from matplotlib import pyplot as plt\n",
    "import numpy as np\n",
    "\n",
    "# Importing main.py\n",
    "from main import Main\n",
    "\n",
    "# Importing helper functions from main\n",
    "from main import init_weight_array_modified\n",
    "from main import epitope_distance"
   ]
  },
  {
   "cell_type": "code",
   "execution_count": 2,
   "metadata": {},
   "outputs": [],
   "source": [
    "# Importing Python Files from src Directory\n",
    "\"\"\" Python File Imports\"\"\"\n",
    "from src.pngs import PNGS\n",
    "from src.panel import Panel\n",
    "from src.blosum import BLOSUM\n",
    "from src.pmbec import PMBEC\n",
    "from src.weights import Weights\n",
    "from src.epitope_dist import get_epitope_distance\n",
    "from src.ic50 import IC50\n",
    "\n",
    "\"\"\" Relative Python Paths \"\"\"\n",
    "rel_panel_path = './files/seap2020/136_panel_with_4lts.fa'\n",
    "rel_weight_path = './files/seap2020/vrc01_wts.4lts.txt'\n",
    "rel_blosum_path = './files/seap2020/BLOSUM62.txt'\n",
    "rel_pmbec_path = './files/seap2020/PMBEC.txt'\n",
    "rel_ic50_path = './files/seap2020/vrc01_ic50.txt'\n",
    "\n",
    "\"\"\" Instantiating Each Class \"\"\"\n",
    "panel = Panel(rel_panel_path)\n",
    "blosum = BLOSUM(rel_blosum_path)\n",
    "pmbec = PMBEC(rel_pmbec_path)\n",
    "weights = Weights(rel_weight_path)\n",
    "weight_array_modified = np.zeros(panel.get_seq_length())\n",
    "ic50 = IC50(rel_ic50_path, (panel.get_number_of_seq() - 2))\n",
    "\n",
    "# print('5 lowest sequences', ic50.get_lowest_ic50_sequences(5))"
   ]
  },
  {
   "cell_type": "code",
   "execution_count": 3,
   "metadata": {},
   "outputs": [
    {
     "name": "stdout",
     "output_type": "stream",
     "text": [
      "Testing epitope distance 0.3333333333333333\n"
     ]
    }
   ],
   "source": [
    "\"\"\" Fixing get_epitope_distance \"\"\"\n",
    "seq = \"AA\\n\"\n",
    "ref_seq = \"AB\\n\"\n",
    "matrix_dict = {}\n",
    "matrix_dict['A', 'A'] = 0\n",
    "matrix_dict['A', 'B'] = 1\n",
    "matrix_dict['B', 'A'] = 1\n",
    "\n",
    "weights = [1, 0.5]\n",
    "\n",
    "print('Testing epitope distance', get_epitope_distance(seq, ref_seq, matrix_dict, weights, True))\n",
    "\n"
   ]
  },
  {
   "cell_type": "code",
   "execution_count": 4,
   "metadata": {},
   "outputs": [],
   "source": [
    "# If I wanted to make modifications to any of the parameters for epitope_distance\n",
    "\n",
    "# Editing the reference sequence\n",
    "reference_sequence = panel.get_reference_sequence(ic50.get_lowest_ic50_sequences(6)) # This panel.get_reference_sequence() function has one parameter, a numpy array of all the of the sequence names you want to read\n",
    "\n",
    "blosum_dict = Main.get_blosum_dict()\n",
    "ic50_weights = Main.log_base_10(Main.get_ic50_weights()) # Get the ic50 weight array, and then log it by 10"
   ]
  },
  {
   "cell_type": "code",
   "execution_count": 5,
   "metadata": {},
   "outputs": [],
   "source": [
    "# 2D matrix containing epitope distance and its respective IC50 concentration\n",
    "data_2d = epitope_distance(reference_sequence, blosum_dict, ic50_weights)"
   ]
  },
  {
   "cell_type": "code",
   "execution_count": 21,
   "metadata": {},
   "outputs": [
    {
     "data": {
      "image/png": "[encoded data removed]",
      "text/plain": [
       "<Figure size 432x432 with 1 Axes>"
      ]
     },
     "metadata": {
      "needs_background": "light"
     },
     "output_type": "display_data"
    }
   ],
   "source": [
    "# Epitope Distances\n",
    "x = data_2d[0]\n",
    "# IC50 Concentrations\n",
    "y = data_2d[1]\n",
    "\n",
    "# Making the Scatter Plot\n",
    "# plt.scatter(x, y)\n",
    "\n",
    "# Making it a Square Plot\n",
    "fig = plt.figure(figsize=(6,6))\n",
    "axes= fig.add_axes([0.1,0.1,0.8,0.8])\n",
    "\n",
    "axes.scatter(x,y)\n",
    "\n",
    "# Adding Title\n",
    "#plt.title(\"Epitope Distance vs IC50 Concentration\")\n",
    "\n",
    "# Adding Labels\n",
    "plt.xlabel(\"Epitope Distance\")\n",
    "plt.ylabel(\"IC50 Concentration\")\n",
    "\n",
    "plt.show()"
   ]
  },
  {
   "cell_type": "code",
   "execution_count": 7,
   "metadata": {},
   "outputs": [
    {
     "name": "stdout",
     "output_type": "stream",
     "text": [
      "Spearman's correlation coefficient: 0.139\n",
      "P Value: 0.107\n"
     ]
    }
   ],
   "source": [
    "from scipy.stats import spearmanr\n",
    "\n",
    "# Calculate Spearman's correlation\n",
    "coef, p = spearmanr(x, y)\n",
    "print(\"Spearman's correlation coefficient: %.3f\" % coef) # Try to improve this value\n",
    "print(\"P Value: %.3f\" % p)"
   ]
  },
  {
   "cell_type": "code",
   "execution_count": null,
   "metadata": {},
   "outputs": [],
   "source": []
  }
 ],
 "metadata": {
  "kernelspec": {
   "display_name": "Python 3",
   "language": "python",
   "name": "python3"
  },
  "language_info": {
   "codemirror_mode": {
    "name": "ipython",
    "version": 3
   },
   "file_extension": ".py",
   "mimetype": "text/x-python",
   "name": "python",
   "nbconvert_exporter": "python",
   "pygments_lexer": "ipython3",
   "version": "3.8.3"
  }
 },
 "nbformat": 4,
 "nbformat_minor": 4
}
