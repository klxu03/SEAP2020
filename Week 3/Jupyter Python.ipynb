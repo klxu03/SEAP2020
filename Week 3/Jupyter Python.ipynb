{
 "cells": [
  {
   "cell_type": "code",
   "execution_count": 1,
   "metadata": {},
   "outputs": [],
   "source": [
    "# Importing required classes\n",
    "from matplotlib import pyplot as plt\n",
    "import numpy as np\n",
    "\n",
    "# Importing main.py\n",
    "from main import Main\n",
    "\n",
    "# Importing helper functions from main\n",
    "from main import init_weight_array_modified\n",
    "from main import epitope_distance"
   ]
  },
  {
   "cell_type": "code",
   "execution_count": 2,
   "metadata": {},
   "outputs": [],
   "source": [
    "# If I wanted to make modifications to any of the parameters for epitope_distance\n",
    "consensus_sequence = Main.get_consensus_sequence()\n",
    "blosum_dict = Main.get_blosum_dict()\n",
    "ic50_weights = Main.get_ic50_weights()"
   ]
  },
  {
   "cell_type": "code",
   "execution_count": 3,
   "metadata": {},
   "outputs": [],
   "source": [
    "# 2D matrix containing epitope distance and its respective IC50 concentration\n",
    "data_2d = epitope_distance(consensus_sequence, blosum_dict, ic50_weights)"
   ]
  },
  {
   "cell_type": "code",
   "execution_count": 4,
   "metadata": {},
   "outputs": [
    {
     "data": {
      "image/png": "[encoded data removed]",
      "text/plain": [
       "<Figure size 432x288 with 1 Axes>"
      ]
     },
     "metadata": {
      "needs_background": "light"
     },
     "output_type": "display_data"
    }
   ],
   "source": [
    "# Epitope Distances\n",
    "x = data_2d[0]\n",
    "# IC50 Concentrations\n",
    "y = data_2d[1]\n",
    "\n",
    "# Making the Scatter Plot\n",
    "plt.scatter(x, y)\n",
    "\n",
    "# Adding Title\n",
    "plt.title(\"Epitope Distance vs IC50 Concentration\")\n",
    "\n",
    "# Adding Labels\n",
    "plt.xlabel(\"Epitope Distance\")\n",
    "plt.ylabel(\"IC50 Concentration\")\n",
    "\n",
    "plt.show()"
   ]
  },
  {
   "cell_type": "code",
   "execution_count": 5,
   "metadata": {},
   "outputs": [
    {
     "name": "stdout",
     "output_type": "stream",
     "text": [
      "Spearman's correlation coefficient: -0.069\n",
      "P Value: 0.425\n"
     ]
    }
   ],
   "source": [
    "from scipy.stats import spearmanr\n",
    "\n",
    "# Calculate Spearman's correlation\n",
    "coef, p = spearmanr(x, y)\n",
    "print(\"Spearman's correlation coefficient: %.3f\" % coef)\n",
    "print(\"P Value: %.3f\" % p)"
   ]
  },
  {
   "cell_type": "code",
   "execution_count": null,
   "metadata": {},
   "outputs": [],
   "source": []
  }
 ],
 "metadata": {
  "kernelspec": {
   "display_name": "Python 3",
   "language": "python",
   "name": "python3"
  },
  "language_info": {
   "codemirror_mode": {
    "name": "ipython",
    "version": 3
   },
   "file_extension": ".py",
   "mimetype": "text/x-python",
   "name": "python",
   "nbconvert_exporter": "python",
   "pygments_lexer": "ipython3",
   "version": "3.8.3"
  }
 },
 "nbformat": 4,
 "nbformat_minor": 4
}
